{
 "cells": [
  {
   "cell_type": "code",
   "execution_count": 1,
   "id": "6cf77d50",
   "metadata": {},
   "outputs": [
    {
     "name": "stdout",
     "output_type": "stream",
     "text": [
      "hello\n"
     ]
    }
   ],
   "source": [
    "print('hello')"
   ]
  },
  {
   "cell_type": "code",
   "execution_count": 2,
   "id": "0c389709",
   "metadata": {},
   "outputs": [
    {
     "name": "stdout",
     "output_type": "stream",
     "text": [
      "RK RASTOGI\n"
     ]
    }
   ],
   "source": [
    "# print number\n",
    "print ('RK RASTOGI')"
   ]
  },
  {
   "cell_type": "code",
   "execution_count": 10,
   "id": "0ede5e65",
   "metadata": {},
   "outputs": [
    {
     "name": "stdout",
     "output_type": "stream",
     "text": [
      "10\n",
      "20\n",
      "Akarsh\n",
      "30\n"
     ]
    }
   ],
   "source": [
    "x = 10\n",
    "y = 20\n",
    "myname = 'Akarsh'\n",
    "print (x)\n",
    "print (y)\n",
    "print (myname)\n",
    "print (x+y)"
   ]
  },
  {
   "cell_type": "code",
   "execution_count": 7,
   "id": "2c44f17e",
   "metadata": {},
   "outputs": [
    {
     "data": {
      "text/plain": [
       "[12, 9, 8, 7, 6, 1]"
      ]
     },
     "execution_count": 7,
     "metadata": {},
     "output_type": "execute_result"
    }
   ],
   "source": [
    "number_list= [1,12,6,7,8,9]\n",
    "number_list\n",
    "number_list.sort()\n",
    "number_list\n",
    "number_list.reverse()\n",
    "number_list\n",
    "    "
   ]
  },
  {
   "cell_type": "code",
   "execution_count": 20,
   "id": "b00a8882",
   "metadata": {},
   "outputs": [
    {
     "name": "stdout",
     "output_type": "stream",
     "text": [
      "At least one of the condition is true\n"
     ]
    }
   ],
   "source": [
    "a=30\n",
    "b=20\n",
    "c= 50\n",
    "if a>b or a>c:\n",
    "    print (\"At least one of the condition is true\")"
   ]
  },
  {
   "cell_type": "code",
   "execution_count": 27,
   "id": "5d5ff5af",
   "metadata": {},
   "outputs": [
    {
     "data": {
      "text/plain": [
       "[1, 2, 3, 4, 5, 6]"
      ]
     },
     "execution_count": 27,
     "metadata": {},
     "output_type": "execute_result"
    }
   ],
   "source": [
    "list=[1,2,3,5]\n",
    "list.append(4)\n",
    "list\n",
    "list.sort()\n",
    "list\n",
    "list.insert(5,6)\n",
    "list\n"
   ]
  },
  {
   "cell_type": "code",
   "execution_count": 28,
   "id": "d9475d2c",
   "metadata": {
    "scrolled": true
   },
   "outputs": [
    {
     "data": {
      "text/plain": [
       "6"
      ]
     },
     "execution_count": 28,
     "metadata": {},
     "output_type": "execute_result"
    }
   ],
   "source": [
    "len (list)"
   ]
  },
  {
   "cell_type": "code",
   "execution_count": 29,
   "id": "fe2aac54",
   "metadata": {},
   "outputs": [
    {
     "data": {
      "text/plain": [
       "3"
      ]
     },
     "execution_count": 29,
     "metadata": {},
     "output_type": "execute_result"
    }
   ],
   "source": [
    "list [2]"
   ]
  },
  {
   "cell_type": "code",
   "execution_count": 30,
   "id": "8a867529",
   "metadata": {},
   "outputs": [
    {
     "data": {
      "text/plain": [
       "[2, 3, 4, 5, 6]"
      ]
     },
     "execution_count": 30,
     "metadata": {},
     "output_type": "execute_result"
    }
   ],
   "source": [
    "list[1:]"
   ]
  },
  {
   "cell_type": "code",
   "execution_count": 32,
   "id": "ee5c4bb8",
   "metadata": {},
   "outputs": [
    {
     "data": {
      "text/plain": [
       "[1, 2, 3, 4, 5, 6]"
      ]
     },
     "execution_count": 32,
     "metadata": {},
     "output_type": "execute_result"
    }
   ],
   "source": [
    "list[:6]"
   ]
  },
  {
   "cell_type": "code",
   "execution_count": 33,
   "id": "e49040d4",
   "metadata": {},
   "outputs": [
    {
     "data": {
      "text/plain": [
       "6"
      ]
     },
     "execution_count": 33,
     "metadata": {},
     "output_type": "execute_result"
    }
   ],
   "source": [
    "list.pop()"
   ]
  },
  {
   "cell_type": "code",
   "execution_count": 35,
   "id": "e3509588",
   "metadata": {},
   "outputs": [
    {
     "data": {
      "text/plain": [
       "[1, 2, 3]"
      ]
     },
     "execution_count": 35,
     "metadata": {},
     "output_type": "execute_result"
    }
   ],
   "source": [
    "list.pop(3)\n",
    "list"
   ]
  },
  {
   "cell_type": "code",
   "execution_count": 38,
   "id": "5cb9b6af",
   "metadata": {},
   "outputs": [
    {
     "data": {
      "text/plain": [
       "0"
      ]
     },
     "execution_count": 38,
     "metadata": {},
     "output_type": "execute_result"
    }
   ],
   "source": [
    "list1=[9,3,3,5,5,0,8,1,7,8]\n",
    "list2=[9,5,9,8,5,4,1,7,2,6]\n",
    "matrix = [list1,list2]\n",
    "matrix[0][5]"
   ]
  },
  {
   "cell_type": "code",
   "execution_count": 41,
   "id": "45d379c4",
   "metadata": {},
   "outputs": [
    {
     "name": "stdout",
     "output_type": "stream",
     "text": [
      "6\n",
      "the sum is 6\n",
      "11\n",
      "the sum is 11\n",
      "14\n",
      "the sum is 14\n",
      "22\n",
      "the sum is 22\n",
      "26\n",
      "the sum is 26\n",
      "31\n",
      "the sum is 31\n",
      "33\n",
      "the sum is 33\n",
      "37\n",
      "the sum is 37\n",
      "46\n",
      "the sum is 46\n"
     ]
    }
   ],
   "source": [
    "numbers=[6,5,3,8,4,5,2,4,9]\n",
    "sum=0\n",
    "for val in numbers:\n",
    "    sum=sum+val\n",
    "    print(sum)\n",
    "    print(\"the sum is\",sum)"
   ]
  },
  {
   "cell_type": "code",
   "execution_count": 63,
   "id": "b1ae1c09",
   "metadata": {},
   "outputs": [
    {
     "data": {
      "text/plain": [
       "set"
      ]
     },
     "execution_count": 63,
     "metadata": {},
     "output_type": "execute_result"
    }
   ],
   "source": [
    "t={1,2,3}\n",
    "type(t)      "
   ]
  },
  {
   "cell_type": "code",
   "execution_count": null,
   "id": "3d9cd106",
   "metadata": {},
   "outputs": [],
   "source": []
  }
 ],
 "metadata": {
  "kernelspec": {
   "display_name": "Python 3 (ipykernel)",
   "language": "python",
   "name": "python3"
  },
  "language_info": {
   "codemirror_mode": {
    "name": "ipython",
    "version": 3
   },
   "file_extension": ".py",
   "mimetype": "text/x-python",
   "name": "python",
   "nbconvert_exporter": "python",
   "pygments_lexer": "ipython3",
   "version": "3.9.12"
  }
 },
 "nbformat": 4,
 "nbformat_minor": 5
}
